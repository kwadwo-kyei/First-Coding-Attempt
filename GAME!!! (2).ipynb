{
 "cells": [
  {
   "cell_type": "code",
   "execution_count": 11,
   "metadata": {},
   "outputs": [
    {
     "name": "stdout",
     "output_type": "stream",
     "text": [
      "\n",
      "----------------------------------------\n",
      "\n",
      "DIRECTIONS:\n",
      "Four treasure hunters are on the hunt for a treasure hunt buried deep in the\n",
      "Amazon jungles in South Brazil. They need your help to find the missing treasure. \n",
      "Would you be willing to help them navigate the dangerous, frightening amazonian \n",
      "terrain in their quest for gold? They need your help in completing 10 blanks from \n",
      "the damaged treasure paper, don’t let them down.\n",
      "\n",
      "\n",
      "----------------------------------------\n",
      "\n",
      "Press < Enter > to continue.\n",
      "SINGULAR, landform:\n",
      "sea\n",
      "animal:\n",
      "cat\n",
      "farm tool:\n",
      "rake\n",
      "weather:\n",
      "sunny\n",
      "female name:\n",
      "rhiana\n",
      "animal:\n",
      "horse\n",
      "mode of transport:\n",
      "car\n",
      "type of building:\n",
      "office\n",
      "body part (i.e. leg):\n",
      "knee\n",
      "piece of clothing:\n",
      "shirt\n",
      "\n",
      "\f",
      "\n",
      "****************************************\n",
      "****************************************\n",
      "\n",
      "We jump out of the plane skydiving down onto the serene yet dangerous Amazon \n",
      "forest, we land on the sea and kill a cat for lunch. \n",
      "Finally, with enough energy, we sharpen our rake and set out\n",
      "towards the forest in the sunny weather. After a lot of research, we find the \n",
      "treasure spot, but we lose rhiana to a hungry and vicious horse.\n",
      "In the meantime we dig up our treasure and try to head out of the forest to \n",
      "our car on the outskirt of the forest. Halfway through we \n",
      "encounter a office with 10 mutilated knee, we carry \n",
      "them for good luck and ditch our shirt as we enter the\n",
      "submarine.\n",
      "\n",
      "****************************************\n",
      "****************************************\n",
      "\n"
     ]
    }
   ],
   "source": [
    "print(f\"\"\"\n",
    "{'-' * 40}\n",
    "\n",
    "DIRECTIONS:\n",
    "Four treasure hunters are on the hunt for a treasure hunt buried deep in the\n",
    "Amazon jungles in South Brazil. They need your help to find the missing treasure. \n",
    "Would you be willing to help them navigate the dangerous, frightening amazonian \n",
    "terrain in their quest for gold? They need your help in completing 10 blanks from \n",
    "the damaged treasure paper, don’t let them down.\n",
    "\n",
    "\n",
    "{'-' * 40}\\n\"\"\")\n",
    "\n",
    "input(\"Press < Enter > to continue.\")\n",
    "\n",
    "landform = input('SINGULAR, landform:\\n')\n",
    "land_animal      = input('animal:\\n')\n",
    "farming_tool           = input('farm tool:\\n')\n",
    "weather    = input('weather:\\n')\n",
    "girl_name     = input('female name:\\n')\n",
    "animal           = input(\"animal:\\n\")\n",
    "mode_of_transport          = input('mode of transport:\\n')\n",
    "type_of_building           = input('type of building:\\n')\n",
    "body_parts           = input('body part (i.e. leg):\\n')\n",
    "piece_of_clothing     = input('piece of clothing:\\n')\n",
    "\n",
    "print(f\"\"\"\n",
    "\\f\n",
    "{'*' * 40}\n",
    "{'*' * 40}\n",
    "\n",
    "We jump out of the plane skydiving down onto the serene yet dangerous Amazon \n",
    "forest, we land on the { landform } and kill a { land_animal } for lunch. \n",
    "Finally, with enough energy, we sharpen our { farming_tool } and set out\n",
    "towards the forest in the { weather } weather. After a lot of research, we find the \n",
    "treasure spot, but we lose { girl_name } to a hungry and vicious { animal }.\n",
    "In the meantime we dig up our treasure and try to head out of the forest to \n",
    "our {mode_of_transport } on the outskirt of the forest. Halfway through we \n",
    "encounter a { type_of_building} with 10 mutilated { body_parts }, we carry \n",
    "them for good luck and ditch our { piece_of_clothing } as we enter the\n",
    "submarine.\n",
    "\n",
    "{'*' * 40}\n",
    "{'*' * 40}\n",
    "\"\"\")"
   ]
  },
  {
   "cell_type": "code",
   "execution_count": null,
   "metadata": {},
   "outputs": [],
   "source": []
  },
  {
   "cell_type": "code",
   "execution_count": null,
   "metadata": {},
   "outputs": [],
   "source": []
  }
 ],
 "metadata": {
  "kernelspec": {
   "display_name": "Python 3",
   "language": "python",
   "name": "python3"
  },
  "language_info": {
   "codemirror_mode": {
    "name": "ipython",
    "version": 3
   },
   "file_extension": ".py",
   "mimetype": "text/x-python",
   "name": "python",
   "nbconvert_exporter": "python",
   "pygments_lexer": "ipython3",
   "version": "3.8.3"
  },
  "toc": {
   "base_numbering": 1,
   "nav_menu": {},
   "number_sections": true,
   "sideBar": true,
   "skip_h1_title": false,
   "title_cell": "Table of Contents",
   "title_sidebar": "Contents",
   "toc_cell": false,
   "toc_position": {},
   "toc_section_display": true,
   "toc_window_display": false
  },
  "varInspector": {
   "cols": {
    "lenName": 16,
    "lenType": 16,
    "lenVar": 40
   },
   "kernels_config": {
    "python": {
     "delete_cmd_postfix": "",
     "delete_cmd_prefix": "del ",
     "library": "var_list.py",
     "varRefreshCmd": "print(var_dic_list())"
    },
    "r": {
     "delete_cmd_postfix": ") ",
     "delete_cmd_prefix": "rm(",
     "library": "var_list.r",
     "varRefreshCmd": "cat(var_dic_list()) "
    }
   },
   "types_to_exclude": [
    "module",
    "function",
    "builtin_function_or_method",
    "instance",
    "_Feature"
   ],
   "window_display": false
  }
 },
 "nbformat": 4,
 "nbformat_minor": 4
}
